{
 "cells": [
  {
   "cell_type": "markdown",
   "metadata": {},
   "source": [
    "1. Understand the dataset:\n",
    "   1. Identify the shape of the dataset\n",
    "   2. Identify variables with null values\n"
   ]
  },
  {
   "cell_type": "markdown",
   "metadata": {},
   "source": [
    "2. Perform basic data exploratory analysis:\n",
    "   1. Utilize missing value treatment\n",
    "   2. Analyze the date column and remove the entries if it has an incorrect timeline\n",
    "   3. Draw a frequency plot for city-wise complaints\n",
    "   4. Draw scatter and hexbin plots for complaint concentration across Brooklyn\n"
   ]
  },
  {
   "cell_type": "markdown",
   "metadata": {},
   "source": [
    "3. Find major types of complaints:\n",
    "   1. Plot a bar graph of count vs. complaint types\n",
    "   2. Find the top 10 types of complaints\n",
    "   3. Display the types of complaints in each city in a separate dataset\n"
   ]
  },
  {
   "cell_type": "markdown",
   "metadata": {},
   "source": [
    "4. Visualize the major types of complaints in each city\n"
   ]
  },
  {
   "cell_type": "markdown",
   "metadata": {},
   "source": [
    "5. Check if the average response time across various types of complaints\n"
   ]
  },
  {
   "cell_type": "markdown",
   "metadata": {},
   "source": [
    "6. Identify significant variables by performing a statistical analysis using p-values and chi-square values (Optional)\n"
   ]
  }
 ],
 "metadata": {
  "language_info": {
   "name": "python"
  },
  "orig_nbformat": 4
 },
 "nbformat": 4,
 "nbformat_minor": 2
}
